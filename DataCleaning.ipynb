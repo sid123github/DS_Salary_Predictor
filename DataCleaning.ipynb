{
 "cells": [
  {
   "cell_type": "code",
   "execution_count": 1,
   "metadata": {},
   "outputs": [],
   "source": [
    "import pandas as pd\n",
    "import numpy as np\n",
    "import seaborn as sns"
   ]
  },
  {
   "cell_type": "code",
   "execution_count": 2,
   "metadata": {},
   "outputs": [],
   "source": [
    "df=pd.read_csv('C:/Users/siddh/Desktop/Data Science Pratice/DS_Salary_Predictor/scrapped_data.csv')"
   ]
  },
  {
   "cell_type": "code",
   "execution_count": 4,
   "metadata": {},
   "outputs": [
    {
     "data": {
      "text/html": [
       "<div>\n",
       "<style scoped>\n",
       "    .dataframe tbody tr th:only-of-type {\n",
       "        vertical-align: middle;\n",
       "    }\n",
       "\n",
       "    .dataframe tbody tr th {\n",
       "        vertical-align: top;\n",
       "    }\n",
       "\n",
       "    .dataframe thead th {\n",
       "        text-align: right;\n",
       "    }\n",
       "</style>\n",
       "<table border=\"1\" class=\"dataframe\">\n",
       "  <thead>\n",
       "    <tr style=\"text-align: right;\">\n",
       "      <th></th>\n",
       "      <th>Job Title</th>\n",
       "      <th>Salary Estimate</th>\n",
       "      <th>Job Description</th>\n",
       "      <th>Rating</th>\n",
       "      <th>Company Name</th>\n",
       "      <th>Location</th>\n",
       "      <th>Headquarters</th>\n",
       "      <th>Size</th>\n",
       "      <th>Founded</th>\n",
       "      <th>Type of ownership</th>\n",
       "      <th>Industry</th>\n",
       "      <th>Sector</th>\n",
       "      <th>Revenue</th>\n",
       "      <th>Competitors</th>\n",
       "    </tr>\n",
       "  </thead>\n",
       "  <tbody>\n",
       "    <tr>\n",
       "      <td>0</td>\n",
       "      <td>Data Science Manager</td>\n",
       "      <td>$97K-$157K (Glassdoor Est.)</td>\n",
       "      <td>Thank you for your interest in joining our tea...</td>\n",
       "      <td>3.5</td>\n",
       "      <td>CGB Enterprises\\n3.5</td>\n",
       "      <td>New Orleans, LA</td>\n",
       "      <td>Covington, LA</td>\n",
       "      <td>1001 to 5000 employees</td>\n",
       "      <td>1969</td>\n",
       "      <td>Company - Private</td>\n",
       "      <td>Logistics &amp; Supply Chain</td>\n",
       "      <td>Transportation &amp; Logistics</td>\n",
       "      <td>Unknown / Non-Applicable</td>\n",
       "      <td>Bunge North America, Gavilon, The Andersons</td>\n",
       "    </tr>\n",
       "    <tr>\n",
       "      <td>1</td>\n",
       "      <td>VP, Data Science</td>\n",
       "      <td>$97K-$157K (Glassdoor Est.)</td>\n",
       "      <td>We are looking for a VP, Data Science to lead ...</td>\n",
       "      <td>3.9</td>\n",
       "      <td>7Park Data\\n3.9</td>\n",
       "      <td>New York, NY</td>\n",
       "      <td>New York, NY</td>\n",
       "      <td>51 to 200 employees</td>\n",
       "      <td>2012</td>\n",
       "      <td>Company - Private</td>\n",
       "      <td>Research &amp; Development</td>\n",
       "      <td>Business Services</td>\n",
       "      <td>Unknown / Non-Applicable</td>\n",
       "      <td>-1</td>\n",
       "    </tr>\n",
       "    <tr>\n",
       "      <td>2</td>\n",
       "      <td>People Data Science and Analytics Lead</td>\n",
       "      <td>$97K-$157K (Glassdoor Est.)</td>\n",
       "      <td>Location: Remote\\n\\n\\nCoinbase has built the w...</td>\n",
       "      <td>4.0</td>\n",
       "      <td>Coinbase\\n4.0</td>\n",
       "      <td>Remote</td>\n",
       "      <td>San Francisco, CA</td>\n",
       "      <td>501 to 1000 employees</td>\n",
       "      <td>2012</td>\n",
       "      <td>Company - Private</td>\n",
       "      <td>Internet</td>\n",
       "      <td>Information Technology</td>\n",
       "      <td>Unknown / Non-Applicable</td>\n",
       "      <td>-1</td>\n",
       "    </tr>\n",
       "    <tr>\n",
       "      <td>3</td>\n",
       "      <td>Data Science Intern</td>\n",
       "      <td>$97K-$157K (Glassdoor Est.)</td>\n",
       "      <td>Fullpower® designs, develops and operates a co...</td>\n",
       "      <td>4.5</td>\n",
       "      <td>Fullpower Technologies, Inc.\\n4.5</td>\n",
       "      <td>Santa Cruz, CA</td>\n",
       "      <td>Santa Cruz, CA</td>\n",
       "      <td>51 to 200 employees</td>\n",
       "      <td>2003</td>\n",
       "      <td>Company - Private</td>\n",
       "      <td>Computer Hardware &amp; Software</td>\n",
       "      <td>Information Technology</td>\n",
       "      <td>₹1 to ₹5 billion (INR)</td>\n",
       "      <td>-1</td>\n",
       "    </tr>\n",
       "    <tr>\n",
       "      <td>4</td>\n",
       "      <td>Quality Systems Data Science Engineer</td>\n",
       "      <td>$97K-$157K (Glassdoor Est.)</td>\n",
       "      <td>It is our people behind life’s passions who wi...</td>\n",
       "      <td>3.7</td>\n",
       "      <td>Mercury Marine\\n3.7</td>\n",
       "      <td>Fond du Lac, WI</td>\n",
       "      <td>Fond du Lac, WI</td>\n",
       "      <td>1001 to 5000 employees</td>\n",
       "      <td>1939</td>\n",
       "      <td>Company - Public</td>\n",
       "      <td>Consumer Products Manufacturing</td>\n",
       "      <td>Manufacturing</td>\n",
       "      <td>₹100 to ₹500 billion (INR)</td>\n",
       "      <td>Harley-Davidson, Inc., Oshkosh Corporation, Ko...</td>\n",
       "    </tr>\n",
       "  </tbody>\n",
       "</table>\n",
       "</div>"
      ],
      "text/plain": [
       "                                Job Title              Salary Estimate  \\\n",
       "0                    Data Science Manager  $97K-$157K (Glassdoor Est.)   \n",
       "1                        VP, Data Science  $97K-$157K (Glassdoor Est.)   \n",
       "2  People Data Science and Analytics Lead  $97K-$157K (Glassdoor Est.)   \n",
       "3                     Data Science Intern  $97K-$157K (Glassdoor Est.)   \n",
       "4   Quality Systems Data Science Engineer  $97K-$157K (Glassdoor Est.)   \n",
       "\n",
       "                                     Job Description  Rating  \\\n",
       "0  Thank you for your interest in joining our tea...     3.5   \n",
       "1  We are looking for a VP, Data Science to lead ...     3.9   \n",
       "2  Location: Remote\\n\\n\\nCoinbase has built the w...     4.0   \n",
       "3  Fullpower® designs, develops and operates a co...     4.5   \n",
       "4  It is our people behind life’s passions who wi...     3.7   \n",
       "\n",
       "                        Company Name         Location       Headquarters  \\\n",
       "0               CGB Enterprises\\n3.5  New Orleans, LA      Covington, LA   \n",
       "1                    7Park Data\\n3.9     New York, NY       New York, NY   \n",
       "2                      Coinbase\\n4.0           Remote  San Francisco, CA   \n",
       "3  Fullpower Technologies, Inc.\\n4.5   Santa Cruz, CA     Santa Cruz, CA   \n",
       "4                Mercury Marine\\n3.7  Fond du Lac, WI    Fond du Lac, WI   \n",
       "\n",
       "                     Size  Founded  Type of ownership  \\\n",
       "0  1001 to 5000 employees     1969  Company - Private   \n",
       "1     51 to 200 employees     2012  Company - Private   \n",
       "2   501 to 1000 employees     2012  Company - Private   \n",
       "3     51 to 200 employees     2003  Company - Private   \n",
       "4  1001 to 5000 employees     1939   Company - Public   \n",
       "\n",
       "                          Industry                      Sector  \\\n",
       "0         Logistics & Supply Chain  Transportation & Logistics   \n",
       "1           Research & Development           Business Services   \n",
       "2                         Internet      Information Technology   \n",
       "3     Computer Hardware & Software      Information Technology   \n",
       "4  Consumer Products Manufacturing               Manufacturing   \n",
       "\n",
       "                      Revenue  \\\n",
       "0    Unknown / Non-Applicable   \n",
       "1    Unknown / Non-Applicable   \n",
       "2    Unknown / Non-Applicable   \n",
       "3      ₹1 to ₹5 billion (INR)   \n",
       "4  ₹100 to ₹500 billion (INR)   \n",
       "\n",
       "                                         Competitors  \n",
       "0        Bunge North America, Gavilon, The Andersons  \n",
       "1                                                 -1  \n",
       "2                                                 -1  \n",
       "3                                                 -1  \n",
       "4  Harley-Davidson, Inc., Oshkosh Corporation, Ko...  "
      ]
     },
     "execution_count": 4,
     "metadata": {},
     "output_type": "execute_result"
    }
   ],
   "source": [
    "df.head()"
   ]
  },
  {
   "cell_type": "code",
   "execution_count": 31,
   "metadata": {},
   "outputs": [
    {
     "name": "stdout",
     "output_type": "stream",
     "text": [
      "<class 'pandas.core.frame.DataFrame'>\n",
      "RangeIndex: 500 entries, 0 to 499\n",
      "Data columns (total 17 columns):\n",
      "Job Title            500 non-null object\n",
      "Salary Estimate      500 non-null object\n",
      "Job Description      500 non-null object\n",
      "Rating               500 non-null float64\n",
      "Company Name         500 non-null object\n",
      "Location             500 non-null object\n",
      "Headquarters         500 non-null object\n",
      "Size                 500 non-null object\n",
      "Founded              500 non-null int64\n",
      "Type of ownership    500 non-null object\n",
      "Industry             500 non-null object\n",
      "Sector               500 non-null object\n",
      "Revenue              500 non-null object\n",
      "Competitors          500 non-null object\n",
      "Min_Salary           500 non-null int64\n",
      "Max_Salary           500 non-null int64\n",
      "Average_Salary       500 non-null float64\n",
      "dtypes: float64(2), int64(3), object(12)\n",
      "memory usage: 66.5+ KB\n"
     ]
    }
   ],
   "source": [
    "df.info()"
   ]
  },
  {
   "cell_type": "raw",
   "metadata": {},
   "source": []
  },
  {
   "cell_type": "code",
   "execution_count": 11,
   "metadata": {},
   "outputs": [],
   "source": [
    "# Clean salary \n",
    "# Removing 'Glassdooor Est'\n",
    "salary=df['Salary Estimate'].apply(lambda x: x.split('(')[0])"
   ]
  },
  {
   "cell_type": "code",
   "execution_count": 18,
   "metadata": {},
   "outputs": [],
   "source": [
    "salary=salary.apply(lambda x: x.replace('K','').replace('$',''))"
   ]
  },
  {
   "cell_type": "code",
   "execution_count": 25,
   "metadata": {},
   "outputs": [],
   "source": [
    "df['Min_Salary']=salary.apply(lambda x: int(x.split('-')[0]))"
   ]
  },
  {
   "cell_type": "code",
   "execution_count": 26,
   "metadata": {},
   "outputs": [],
   "source": [
    "df['Max_Salary']=salary.apply(lambda x: int(x.split('-')[1]))"
   ]
  },
  {
   "cell_type": "code",
   "execution_count": 27,
   "metadata": {},
   "outputs": [],
   "source": [
    "df['Average_Salary']=(df['Min_Salary']+df['Max_Salary'])/2"
   ]
  },
  {
   "cell_type": "code",
   "execution_count": 55,
   "metadata": {},
   "outputs": [],
   "source": [
    "# Clean company name \n",
    "df['Company Name']=df.apply(lambda x: x['Company Name'] if x['Rating']<0 else x['Company Name'][:-4],axis='columns')"
   ]
  },
  {
   "cell_type": "code",
   "execution_count": 59,
   "metadata": {},
   "outputs": [],
   "source": [
    "# Change Age (Founded)\n",
    "df['Company Age']=df['Founded'].apply(lambda x:x if x<0 else 2020-x)"
   ]
  },
  {
   "cell_type": "code",
   "execution_count": 84,
   "metadata": {},
   "outputs": [],
   "source": [
    "# Clean location by city and state \n",
    "df['Job_State']=df['Location'].apply(lambda x:x if len(x.split(', '))==1 else x.split(', ')[1])"
   ]
  },
  {
   "cell_type": "code",
   "execution_count": 92,
   "metadata": {},
   "outputs": [
    {
     "data": {
      "text/plain": [
       "0    268\n",
       "1    232\n",
       "Name: excel, dtype: int64"
      ]
     },
     "execution_count": 92,
     "metadata": {},
     "output_type": "execute_result"
    }
   ],
   "source": [
    "#parsing of job description (python, etc.)\n",
    "\n",
    "#python\n",
    "df['python_yn'] = df['Job Description'].apply(lambda x: 1 if 'python' in x.lower() else 0)\n",
    " \n",
    "#r studio \n",
    "df['R_yn'] = df['Job Description'].apply(lambda x: 1 if 'r studio' in x.lower() or 'r-studio' in x.lower() else 0)\n",
    "df.R_yn.value_counts()\n",
    "\n",
    "#spark \n",
    "df['spark'] = df['Job Description'].apply(lambda x: 1 if 'spark' in x.lower() else 0)\n",
    "df.spark.value_counts()\n",
    "\n",
    "#aws \n",
    "df['aws'] = df['Job Description'].apply(lambda x: 1 if 'aws' in x.lower() else 0)\n",
    "df.aws.value_counts()\n",
    "\n",
    "#excel\n",
    "df['excel'] = df['Job Description'].apply(lambda x: 1 if 'excel' in x.lower() else 0)\n",
    "df.excel.value_counts()\n"
   ]
  },
  {
   "cell_type": "code",
   "execution_count": 94,
   "metadata": {},
   "outputs": [],
   "source": [
    "df.to_csv('C:/Users/siddh/Desktop/Data Science Pratice/DS_Salary_Predictor/salary_data_cleaned.csv',index = False)"
   ]
  },
  {
   "cell_type": "code",
   "execution_count": null,
   "metadata": {},
   "outputs": [],
   "source": []
  }
 ],
 "metadata": {
  "kernelspec": {
   "display_name": "Python 3",
   "language": "python",
   "name": "python3"
  },
  "language_info": {
   "codemirror_mode": {
    "name": "ipython",
    "version": 3
   },
   "file_extension": ".py",
   "mimetype": "text/x-python",
   "name": "python",
   "nbconvert_exporter": "python",
   "pygments_lexer": "ipython3",
   "version": "3.7.4"
  }
 },
 "nbformat": 4,
 "nbformat_minor": 4
}
